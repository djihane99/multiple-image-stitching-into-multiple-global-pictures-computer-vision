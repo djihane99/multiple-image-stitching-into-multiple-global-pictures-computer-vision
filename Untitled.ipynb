{
 "cells": [
  {
   "cell_type": "code",
   "execution_count": 2,
   "id": "95ff645e",
   "metadata": {},
   "outputs": [
    {
     "name": "stdout",
     "output_type": "stream",
     "text": [
      "yes 0 12\n",
      "yes 1 11\n",
      "yes 2 10\n",
      "yes 3 9\n",
      "yes 4 8\n",
      "yes 5 7\n",
      "yes 6 6\n",
      "yes 7 5\n",
      "yes 8 4\n",
      "yes 9 3\n",
      "yes 10 2\n"
     ]
    }
   ],
   "source": [
    "import cv2\n",
    "image_paths=['01.jpg','02.jpg','03.jpg','04.jpg','05.jpg','06.jpg','07.jpg','08.jpg','09.jpg','10.jpg','11.jpg','12.jpg']\n",
    "# initialized a list of images\n",
    "imgs = []\n",
    "\n",
    " \n",
    "for i in range(len(image_paths)):\n",
    "    imgs.append(cv2.imread(image_paths[i]))\n",
    "    imgs[i]=cv2.resize(imgs[i],(0,0),fx=0.4,fy=0.4)\n",
    "    # this is optional if your input images isn't too large\n",
    "    # you don't need to scale down the image\n",
    "    # in my case the input images are of dimensions 3000x1200\n",
    "    # and due to this the resultant image won't fit the screen\n",
    "    # scaling down the images\n",
    "\n",
    "# showing the original pictures\n",
    "#cv2.imshow('1',imgs[0])....\n",
    "\n",
    "panorama = imgs\n",
    "\n",
    "        \n",
    "for i in range(len(imgs)):\n",
    "    stitchy=cv2.Stitcher.create()\n",
    "    (dummy,output)=stitchy.stitch(panorama)\n",
    "    if dummy == cv2.STITCHER_OK:\n",
    "        print('yes',i,len(panorama))\n",
    "        cv2.imshow('final result',output)\n",
    "        cv2.waitKey(0)\n",
    "    panorama.pop(0)"
   ]
  },
  {
   "cell_type": "code",
   "execution_count": null,
   "id": "756f301e",
   "metadata": {},
   "outputs": [],
   "source": []
  }
 ],
 "metadata": {
  "kernelspec": {
   "display_name": "Python 3",
   "language": "python",
   "name": "python3"
  },
  "language_info": {
   "codemirror_mode": {
    "name": "ipython",
    "version": 3
   },
   "file_extension": ".py",
   "mimetype": "text/x-python",
   "name": "python",
   "nbconvert_exporter": "python",
   "pygments_lexer": "ipython3",
   "version": "3.8.8"
  }
 },
 "nbformat": 4,
 "nbformat_minor": 5
}
